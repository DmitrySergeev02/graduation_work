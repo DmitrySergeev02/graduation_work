{
  "nbformat": 4,
  "nbformat_minor": 0,
  "metadata": {
    "colab": {
      "provenance": []
    },
    "kernelspec": {
      "name": "python3",
      "display_name": "Python 3"
    },
    "language_info": {
      "name": "python"
    }
  },
  "cells": [
    {
      "cell_type": "code",
      "source": [
        "!gdown --id 1jcd9ocuh50lnwrDSiY10FbYu5X6mDpCJ"
      ],
      "metadata": {
        "colab": {
          "base_uri": "https://localhost:8080/"
        },
        "id": "VT58-ym6uwDV",
        "outputId": "98c2ac70-7bd9-45a6-b956-d2fbacfc722c"
      },
      "execution_count": null,
      "outputs": [
        {
          "output_type": "stream",
          "name": "stdout",
          "text": [
            "/usr/local/lib/python3.10/dist-packages/gdown/__main__.py:132: FutureWarning: Option `--id` was deprecated in version 4.3.1 and will be removed in 5.0. You don't need to pass it anymore to use a file ID.\n",
            "  warnings.warn(\n",
            "Downloading...\n",
            "From: https://drive.google.com/uc?id=1jcd9ocuh50lnwrDSiY10FbYu5X6mDpCJ\n",
            "To: /content/extracted_triples_2.json\n",
            "100% 97.2k/97.2k [00:00<00:00, 6.22MB/s]\n"
          ]
        }
      ]
    },
    {
      "cell_type": "code",
      "execution_count": null,
      "metadata": {
        "id": "m5yT-XHSqG-9",
        "colab": {
          "base_uri": "https://localhost:8080/"
        },
        "outputId": "d2568817-249f-4532-ba44-0cf52dc2cbc1"
      },
      "outputs": [
        {
          "output_type": "stream",
          "name": "stdout",
          "text": [
            "Collecting en-core-web-md==3.7.1\n",
            "  Downloading https://github.com/explosion/spacy-models/releases/download/en_core_web_md-3.7.1/en_core_web_md-3.7.1-py3-none-any.whl (42.8 MB)\n",
            "\u001b[2K     \u001b[90m━━━━━━━━━━━━━━━━━━━━━━━━━━━━━━━━━━━━━━━━\u001b[0m \u001b[32m42.8/42.8 MB\u001b[0m \u001b[31m15.3 MB/s\u001b[0m eta \u001b[36m0:00:00\u001b[0m\n",
            "\u001b[?25hRequirement already satisfied: spacy<3.8.0,>=3.7.2 in /usr/local/lib/python3.10/dist-packages (from en-core-web-md==3.7.1) (3.7.4)\n",
            "Requirement already satisfied: spacy-legacy<3.1.0,>=3.0.11 in /usr/local/lib/python3.10/dist-packages (from spacy<3.8.0,>=3.7.2->en-core-web-md==3.7.1) (3.0.12)\n",
            "Requirement already satisfied: spacy-loggers<2.0.0,>=1.0.0 in /usr/local/lib/python3.10/dist-packages (from spacy<3.8.0,>=3.7.2->en-core-web-md==3.7.1) (1.0.5)\n",
            "Requirement already satisfied: murmurhash<1.1.0,>=0.28.0 in /usr/local/lib/python3.10/dist-packages (from spacy<3.8.0,>=3.7.2->en-core-web-md==3.7.1) (1.0.10)\n",
            "Requirement already satisfied: cymem<2.1.0,>=2.0.2 in /usr/local/lib/python3.10/dist-packages (from spacy<3.8.0,>=3.7.2->en-core-web-md==3.7.1) (2.0.8)\n",
            "Requirement already satisfied: preshed<3.1.0,>=3.0.2 in /usr/local/lib/python3.10/dist-packages (from spacy<3.8.0,>=3.7.2->en-core-web-md==3.7.1) (3.0.9)\n",
            "Requirement already satisfied: thinc<8.3.0,>=8.2.2 in /usr/local/lib/python3.10/dist-packages (from spacy<3.8.0,>=3.7.2->en-core-web-md==3.7.1) (8.2.3)\n",
            "Requirement already satisfied: wasabi<1.2.0,>=0.9.1 in /usr/local/lib/python3.10/dist-packages (from spacy<3.8.0,>=3.7.2->en-core-web-md==3.7.1) (1.1.3)\n",
            "Requirement already satisfied: srsly<3.0.0,>=2.4.3 in /usr/local/lib/python3.10/dist-packages (from spacy<3.8.0,>=3.7.2->en-core-web-md==3.7.1) (2.4.8)\n",
            "Requirement already satisfied: catalogue<2.1.0,>=2.0.6 in /usr/local/lib/python3.10/dist-packages (from spacy<3.8.0,>=3.7.2->en-core-web-md==3.7.1) (2.0.10)\n",
            "Requirement already satisfied: weasel<0.4.0,>=0.1.0 in /usr/local/lib/python3.10/dist-packages (from spacy<3.8.0,>=3.7.2->en-core-web-md==3.7.1) (0.3.4)\n",
            "Requirement already satisfied: typer<0.10.0,>=0.3.0 in /usr/local/lib/python3.10/dist-packages (from spacy<3.8.0,>=3.7.2->en-core-web-md==3.7.1) (0.9.4)\n",
            "Requirement already satisfied: smart-open<7.0.0,>=5.2.1 in /usr/local/lib/python3.10/dist-packages (from spacy<3.8.0,>=3.7.2->en-core-web-md==3.7.1) (6.4.0)\n",
            "Requirement already satisfied: tqdm<5.0.0,>=4.38.0 in /usr/local/lib/python3.10/dist-packages (from spacy<3.8.0,>=3.7.2->en-core-web-md==3.7.1) (4.66.4)\n",
            "Requirement already satisfied: requests<3.0.0,>=2.13.0 in /usr/local/lib/python3.10/dist-packages (from spacy<3.8.0,>=3.7.2->en-core-web-md==3.7.1) (2.31.0)\n",
            "Requirement already satisfied: pydantic!=1.8,!=1.8.1,<3.0.0,>=1.7.4 in /usr/local/lib/python3.10/dist-packages (from spacy<3.8.0,>=3.7.2->en-core-web-md==3.7.1) (2.7.3)\n",
            "Requirement already satisfied: jinja2 in /usr/local/lib/python3.10/dist-packages (from spacy<3.8.0,>=3.7.2->en-core-web-md==3.7.1) (3.1.4)\n",
            "Requirement already satisfied: setuptools in /usr/local/lib/python3.10/dist-packages (from spacy<3.8.0,>=3.7.2->en-core-web-md==3.7.1) (67.7.2)\n",
            "Requirement already satisfied: packaging>=20.0 in /usr/local/lib/python3.10/dist-packages (from spacy<3.8.0,>=3.7.2->en-core-web-md==3.7.1) (24.0)\n",
            "Requirement already satisfied: langcodes<4.0.0,>=3.2.0 in /usr/local/lib/python3.10/dist-packages (from spacy<3.8.0,>=3.7.2->en-core-web-md==3.7.1) (3.4.0)\n",
            "Requirement already satisfied: numpy>=1.19.0 in /usr/local/lib/python3.10/dist-packages (from spacy<3.8.0,>=3.7.2->en-core-web-md==3.7.1) (1.25.2)\n",
            "Requirement already satisfied: language-data>=1.2 in /usr/local/lib/python3.10/dist-packages (from langcodes<4.0.0,>=3.2.0->spacy<3.8.0,>=3.7.2->en-core-web-md==3.7.1) (1.2.0)\n",
            "Requirement already satisfied: annotated-types>=0.4.0 in /usr/local/lib/python3.10/dist-packages (from pydantic!=1.8,!=1.8.1,<3.0.0,>=1.7.4->spacy<3.8.0,>=3.7.2->en-core-web-md==3.7.1) (0.7.0)\n",
            "Requirement already satisfied: pydantic-core==2.18.4 in /usr/local/lib/python3.10/dist-packages (from pydantic!=1.8,!=1.8.1,<3.0.0,>=1.7.4->spacy<3.8.0,>=3.7.2->en-core-web-md==3.7.1) (2.18.4)\n",
            "Requirement already satisfied: typing-extensions>=4.6.1 in /usr/local/lib/python3.10/dist-packages (from pydantic!=1.8,!=1.8.1,<3.0.0,>=1.7.4->spacy<3.8.0,>=3.7.2->en-core-web-md==3.7.1) (4.12.1)\n",
            "Requirement already satisfied: charset-normalizer<4,>=2 in /usr/local/lib/python3.10/dist-packages (from requests<3.0.0,>=2.13.0->spacy<3.8.0,>=3.7.2->en-core-web-md==3.7.1) (3.3.2)\n",
            "Requirement already satisfied: idna<4,>=2.5 in /usr/local/lib/python3.10/dist-packages (from requests<3.0.0,>=2.13.0->spacy<3.8.0,>=3.7.2->en-core-web-md==3.7.1) (3.7)\n",
            "Requirement already satisfied: urllib3<3,>=1.21.1 in /usr/local/lib/python3.10/dist-packages (from requests<3.0.0,>=2.13.0->spacy<3.8.0,>=3.7.2->en-core-web-md==3.7.1) (2.0.7)\n",
            "Requirement already satisfied: certifi>=2017.4.17 in /usr/local/lib/python3.10/dist-packages (from requests<3.0.0,>=2.13.0->spacy<3.8.0,>=3.7.2->en-core-web-md==3.7.1) (2024.6.2)\n",
            "Requirement already satisfied: blis<0.8.0,>=0.7.8 in /usr/local/lib/python3.10/dist-packages (from thinc<8.3.0,>=8.2.2->spacy<3.8.0,>=3.7.2->en-core-web-md==3.7.1) (0.7.11)\n",
            "Requirement already satisfied: confection<1.0.0,>=0.0.1 in /usr/local/lib/python3.10/dist-packages (from thinc<8.3.0,>=8.2.2->spacy<3.8.0,>=3.7.2->en-core-web-md==3.7.1) (0.1.5)\n",
            "Requirement already satisfied: click<9.0.0,>=7.1.1 in /usr/local/lib/python3.10/dist-packages (from typer<0.10.0,>=0.3.0->spacy<3.8.0,>=3.7.2->en-core-web-md==3.7.1) (8.1.7)\n",
            "Requirement already satisfied: cloudpathlib<0.17.0,>=0.7.0 in /usr/local/lib/python3.10/dist-packages (from weasel<0.4.0,>=0.1.0->spacy<3.8.0,>=3.7.2->en-core-web-md==3.7.1) (0.16.0)\n",
            "Requirement already satisfied: MarkupSafe>=2.0 in /usr/local/lib/python3.10/dist-packages (from jinja2->spacy<3.8.0,>=3.7.2->en-core-web-md==3.7.1) (2.1.5)\n",
            "Requirement already satisfied: marisa-trie>=0.7.7 in /usr/local/lib/python3.10/dist-packages (from language-data>=1.2->langcodes<4.0.0,>=3.2.0->spacy<3.8.0,>=3.7.2->en-core-web-md==3.7.1) (1.1.1)\n",
            "\u001b[38;5;2m✔ Download and installation successful\u001b[0m\n",
            "You can now load the package via spacy.load('en_core_web_md')\n",
            "\u001b[38;5;3m⚠ Restart to reload dependencies\u001b[0m\n",
            "If you are in a Jupyter or Colab notebook, you may need to restart Python in\n",
            "order to load all the package's dependencies. You can do this by selecting the\n",
            "'Restart kernel' or 'Restart runtime' option.\n"
          ]
        }
      ],
      "source": [
        "!python -m spacy download en_core_web_md"
      ]
    },
    {
      "cell_type": "code",
      "source": [
        "!pip install pandas"
      ],
      "metadata": {
        "colab": {
          "base_uri": "https://localhost:8080/"
        },
        "id": "7d_i7xhGq4SZ",
        "outputId": "d7aea154-6aca-4f0e-a16b-47e4e3196c47"
      },
      "execution_count": null,
      "outputs": [
        {
          "output_type": "stream",
          "name": "stdout",
          "text": [
            "Requirement already satisfied: pandas in /usr/local/lib/python3.10/dist-packages (2.0.3)\n",
            "Requirement already satisfied: python-dateutil>=2.8.2 in /usr/local/lib/python3.10/dist-packages (from pandas) (2.8.2)\n",
            "Requirement already satisfied: pytz>=2020.1 in /usr/local/lib/python3.10/dist-packages (from pandas) (2023.4)\n",
            "Requirement already satisfied: tzdata>=2022.1 in /usr/local/lib/python3.10/dist-packages (from pandas) (2024.1)\n",
            "Requirement already satisfied: numpy>=1.21.0 in /usr/local/lib/python3.10/dist-packages (from pandas) (1.25.2)\n",
            "Requirement already satisfied: six>=1.5 in /usr/local/lib/python3.10/dist-packages (from python-dateutil>=2.8.2->pandas) (1.16.0)\n"
          ]
        }
      ]
    },
    {
      "cell_type": "code",
      "source": [
        "import json\n",
        "import pandas as pd\n",
        "import spacy"
      ],
      "metadata": {
        "id": "iNJzKleDrk_y"
      },
      "execution_count": null,
      "outputs": []
    },
    {
      "cell_type": "code",
      "source": [
        "nlp =  spacy.load('en_core_web_md')"
      ],
      "metadata": {
        "id": "wDfUg-mZrgmP"
      },
      "execution_count": null,
      "outputs": []
    },
    {
      "cell_type": "markdown",
      "source": [
        "# Векторные представления"
      ],
      "metadata": {
        "id": "ycxH3zOrK8VM"
      }
    },
    {
      "cell_type": "code",
      "source": [
        "nlp_similarity = {\n",
        "    'COUNTRY': {\"baseline\":'country', 'flag': True},\n",
        "    'AWARD_RECEIVED':{\"baseline\":'award', 'flag': True},\n",
        "    'PLATFORM':{\"baseline\":'platform', 'flag': True},\n",
        "    'LEAGUE': {\"baseline\":'league', 'flag': True},\n",
        "    'LOCATED_IN_OR_NEXT_TO_BODY_OF_WATER': {\"baseline\":'water', 'flag': True},\n",
        "    'BASIN_COUNTRY': {\"baseline\":'water', 'flag': False},\n",
        "    'CONTINENT': {\"baseline\":'continent', 'flag': True},\n",
        "    'RECORD_LABEL': {\"baseline\":'record company', 'flag': True}\n",
        "}\n",
        "\n",
        "def similarity_check_nlp(triple):\n",
        "    is_corrected = False\n",
        "    subj = nlp(triple['subj'][0][0])\n",
        "    obj = nlp(triple['obj'][0][0])\n",
        "    pred = nlp(nlp_similarity[triple['pred']]['baseline'])\n",
        "    flag = nlp_similarity[triple['pred']]['flag']\n",
        "    p_s = pred.similarity(subj)\n",
        "    p_o = pred.similarity(obj)\n",
        "    if flag:\n",
        "        if p_s > p_o:\n",
        "            correct_triple = {'subj': triple['obj'],'obj':triple['subj'],\"pred\": triple['pred']}\n",
        "            is_corrected = True\n",
        "    else:\n",
        "        if p_s < p_o:\n",
        "            correct_triple = {'subj': triple['obj'],'obj':triple['subj'],\"pred\": triple['pred']}\n",
        "            is_corrected = True\n",
        "    return (correct_triple if is_corrected else triple,is_corrected)"
      ],
      "metadata": {
        "id": "Oo3m9ACgK8oC"
      },
      "execution_count": null,
      "outputs": []
    },
    {
      "cell_type": "markdown",
      "source": [
        "#Правила"
      ],
      "metadata": {
        "id": "JaO0bNyRts3g"
      }
    },
    {
      "cell_type": "code",
      "source": [
        "correct_types = {\n",
        "    'LOCATED_IN_THE_ADMINISTRATIVE_TERRITORIAL_ENTITY': {\"subj\": ['LOC','ORG','MISC'], 'obj': ['LOC','ORG','MISC'],'correct':{'subj': ['ORG','MISC','LOC'],'obj':'LOC'}},\n",
        "    'INCEPTION': {'subj': ['ORG','MISC','TIME','LOC'],'obj':['ORG','MISC','TIME','LOC'], 'correct':{'subj': ['ORG','MISC','LOC'],'obj':'TIME'}},\n",
        "    'LANGUAGES_SPOKEN_WRITTEN_OR_SIGNED': {\"subj\": ['PER','MISC','LOC'], 'obj': ['PER','MISC', 'LOC'],'correct':{'subj': 'PER','obj':['MISC','LOC']}},\n",
        "    'COUNTRY': {\"subj\": ['LOC','MISC','ORG','PER'],'obj':['LOC','MISC','ORG','PER'], 'correct':{'subj': ['LOC','MISC','ORG','PER'],'obj':'LOC'}},\n",
        "    'CHAIRPERSON': {\"subj\": ['PER','ORG'], 'obj': ['PER','ORG'], 'correct':{'subj': 'ORG','obj':'PER'}},\n",
        "    'MEMBER_OF_POLITICAL_PARTY': {\"subj\": ['PER','ORG'], 'obj': ['PER','ORG'], 'correct':{'subj': 'PER','obj':'ORG'}},\n",
        "    'HEAD_OF_GOVERNMENT': {\"subj\": ['PER','LOC','ORG'], 'obj': ['PER','LOC','ORG'], 'correct':{'subj':'PER' ,'obj':['LOC','ORG']}},\n",
        "    'DATE_OF_BIRTH': {\"subj\": ['PER','TIME'], 'obj': ['PER','TIME'],'correct':{'subj':'PER' ,'obj':'TIME'}},\n",
        "    'DATE_OF_DEATH': {\"subj\": ['PER','TIME'], 'obj': ['PER','TIME'],'correct':{'subj':'PER' ,'obj':'TIME'}},\n",
        "    'SIBLING': {\"subj\": ['PER'], 'obj': ['PER'],'correct':{'subj':'PER' ,'obj':'PER'}, 'reverse': 'SIBLING'},\n",
        "    'PLACE_OF_BIRTH': {'subj': ['LOC','PER''ORG'],'obj':['LOC','PER','ORG'],'correct':{'subj': 'PER','obj':['LOC','ORG']}},\n",
        "    'PLACE_OF_DEATH': {'subj': ['LOC','PER''ORG'],'obj':['LOC','PER''ORG'],'correct':{'subj': 'PER','obj':['LOC','ORG']}},\n",
        "    'COUNTRY_OF_CITIZENSHIP': {\"subj\": [\"PER\", \"LOC\", \"ORG\", \"MISC\"], 'obj': [\"PER\", \"LOC\", \"ORG\", \"MISC\"], 'correct':{'subj': [\"PER\",\"ORG\", \"MISC\"],'obj':'LOC'}},\n",
        "    'POSITION_HELD': {\"subj\": ['PER','MISC','ORG'], 'obj': ['PER','MISC','ORG'],'correct':{'subj': 'PER','obj': ['ORG','MISC']}},\n",
        "    'PARTICIPANT': {'subj': ['PER','ORG','LOC','MISC'],'obj': ['PER','ORG','LOC','MISC'], 'correct':{'subj': 'MISC','obj':['PER','ORG','LOC']}, 'reverse': 'PARTICIPANT_OF'},\n",
        "    'AUTHOR': {\"subj\": ['MISC','PER','ORG'], 'obj': ['MISC','PER','ORG'], 'correct':{'subj': 'MISC','obj':['PER','ORG']}},\n",
        "    'DISSOLVED_ABOLISHED_OR_DEMOLISHED': {\"subj\": ['TIME','ORG','LOC','MISC'], 'obj': ['TIME','ORG','LOC','MISC'],'correct':{'subj': ['ORG','LOC','MISC'],'obj': 'TIME'}},\n",
        "    'CONTAINS_ADMINISTRATIVE_TERRITORIAL_ENTITY' : {\"subj\": ['LOC','ORG'], 'obj': ['LOC','ORG'], 'correct':{'subj': 'LOC','obj':['LOC','ORG']}},\n",
        "    'HEADQUARTERS_LOCATION': {\"subj\": ['LOC','ORG'], 'obj': ['LOC','ORG'], 'correct':{'subj': 'ORG','obj':'LOC'}},\n",
        "    'PUBLICATION_DATE': {\"subj\": ['TIME','MISC'], 'obj': ['TIME','MISC'],'correct':{'subj': 'MISC','obj':'TIME'}},\n",
        "    'NOTABLE_WORK': {\"subj\": ['PER','MISC','ORG'], 'obj': ['PER','MISC','ORG'], 'correct':{'subj': ['PER','ORG'],'obj':'MISC'}},\n",
        "    'AWARD_RECEIVED': {'subj':['MISC','PER','ORG'],'obj':['MISC','PER','ORG'], 'correct':{'subj': ['PER','MISC','ORG'],'obj':'MISC'}},\n",
        "    'OWNED_BY': {\"subj\": ['MISC','ORG','PER','LOC'], 'obj': ['MISC','ORG','PER','LOC'], 'correct':{'subj': ['MISC','ORG','LOC'],'obj': ['PER','ORG']}},\n",
        "    'CAST_MEMBER': {\"subj\": ['MISC','PER'], 'obj': ['MISC','PER'],'correct':{'subj': 'MISC','obj':'PER'}},\n",
        "    'TERRITORY_CLAIMED_BY': {\"subj\": ['LOC'], 'obj': ['LOC'], 'correct':{'subj': 'LOC','obj':'LOC'}},\n",
        "    'PERFORMER': {\"subj\": ['PER','MISC'], 'obj': ['PER','MISC'], 'correct':{'subj': 'PER','obj':'MISC'}},\n",
        "    'LOCATION_OF_FORMATION': {\"subj\": ['ORG','LOC'], 'obj': ['ORG','LOC'],'correct':{'subj': 'ORG','obj':'LOC'}},\n",
        "    'COUNTRY_OF_ORIGIN': {\"subj\": ['LOC','ORG','MISC','PER'], 'obj': ['LOC','ORG','MISC','PER'], 'correct':{'subj': ['ORG','MISC','PER'],'obj':'LOC'}},\n",
        "    'FATHER': {\"subj\": ['PER'], 'obj': ['PER'], 'correct':{'subj': 'PER','obj':'PER'}, 'reverse': 'CHILD'},\n",
        "    'MOTHER': {\"subj\": ['PER'], 'obj': ['PER'], 'correct':{'subj': 'PER','obj':'PER'}, 'reverse': 'CHILD'},\n",
        "    'HEAD_OF_STATE': {'subj': ['LOC','PER'],'obj':['LOC','PER'], 'correct':{'subj': 'LOC','obj':'PER'}},\n",
        "    'CHILD': {\"subj\": ['PER'], 'obj': ['PER'], 'correct':{'subj': 'PER','obj':'PER'}},\n",
        "    'SPOUSE': {\"subj\": ['PER'], 'obj': ['PER'], 'correct':{'subj': 'PER','obj':'PER'}, 'reverse': 'SPOUSE'},\n",
        "    'START_TIME': {\"subj\": ['TIME','MISC'], 'obj': ['TIME','MISC'],'correct':{'subj': 'MISC','obj':'TIME'}},\n",
        "    'END_TIME': {'subj': ['TIME','MISC'],'obj':['TIME','MISC'],'correct':{'subj': 'MISC','obj':'TIME'}},\n",
        "    'POINT_IN_TIME': {'subj': ['TIME','MISC'],'obj':['TIME','MISC'],'correct':{'subj': 'MISC','obj':'TIME'}},\n",
        "    'ORIGINAL_NETWORK': {\"subj\": ['MISC',\"ORG\"], 'obj': ['MISC','ORG'],'correct':{'subj': 'MISC','obj':'ORG'}},\n",
        "    'HAS_PART': {\"subj\": ['LOC','ORG','MISC'], 'obj': ['LOC','ORG','MISC'], 'correct':{'subj': ['LOC','ORG','MISC'],'obj':['LOC','ORG','MISC']}, 'reverse': \"PART_OF\"},\n",
        "    'DIRECTOR': {\"subj\": ['PER','MISC'], 'obj': ['PER','MISC'], 'correct': {'subj':'MISC','obj':'PER'}},\n",
        "    'SCREENWRITER': {\"subj\": ['PER','MISC'], 'obj': ['PER','MISC'], 'correct': {'subj':'MISC','obj':'PER'}},\n",
        "    'CHARACTERS': {\"subj\": ['PER','MISC'], 'obj': ['PER','MISC'], 'correct': {'subj':'MISC','obj':'PER'}, 'reverse': 'PRESENT_IN_WORK'},\n",
        "    'PRESENT_IN_WORK': {'subj': ['PER','MISC'],'obj':['PER','MISC'], 'correct': {'subj':'PER','obj':'MISC'}, 'reverse': 'CHARACTERS'},\n",
        "    'CREATOR': {\"subj\": ['PER','MISC'], 'obj': ['PER','MISC'], 'correct': {'subj':'MISC','obj':'PER'}},\n",
        "    'EMPLOYER': {\"subj\": ['PER','ORG'], 'obj': ['PER','ORG'], 'correct':{'subj': 'PER','obj':['PER','ORG']}},\n",
        "    'PRODUCER': {\"subj\": ['PER','MISC'], 'obj': ['PER','MISC'],'correct': {'subj':'MISC','obj':'PER'}},\n",
        "    'ORIGINAL_LANGUAGE_OF_WORK': {\"subj\": ['MISC'], 'obj': ['MISC'], 'correct': {'subj':'MISC','obj':'MISC'}},\n",
        "    'DEVELOPER': {\"subj\": ['ORG','MISC','PER'], 'obj': ['ORG','MISC','PER'],'correct': {'subj':'MISC','obj':['PER','ORG']}},\n",
        "    'PUBLISHER': {\"subj\": ['ORG','MISC','PER'], 'obj': ['ORG','MISC','PER'],'correct': {'subj':'MISC','obj':['PER','ORG']}},\n",
        "    'PLATFORM': {\"subj\": ['MISC'], 'obj': ['MISC'], 'correct': {'subj':'MISC','obj':'MISC'}},\n",
        "    'PRODUCTION_COMPANY': {\"subj\": ['ORG','MISC'], 'obj': ['ORG','MISC'],'correct': {'subj':'MISC','obj':'ORG'}},\n",
        "    'EDUCATED_AT': {\"subj\": ['PER','ORG','LOC'], 'obj': ['PER','ORG','LOC'], 'correct': {'subj':'PER','obj':['ORG','LOC']}},\n",
        "    'OPERATOR': {\"subj\": ['PER','ORG','MISC'], 'obj': ['PER','ORG','MISC'], 'correct': {'subj':'MISC','obj':['ORG','PER']}},\n",
        "    'LEAGUE': {\"subj\": ['PER','ORG','MISC'], 'obj': ['PER','ORG','MISC'], 'correct':{'subj': ['PER','ORG'],'obj':['ORG','MISC']}},\n",
        "    'LOCATED_IN_OR_NEXT_TO_BODY_OF_WATER': {\"subj\": ['LOC','ORG'], 'obj': ['LOC','ORG'], 'correct':{'subj': [\"LOC\",'ORG'],'obj':'LOC'}},\n",
        "    'LOCATION': {\"subj\": ['LOC','MISC','ORG'], 'obj': ['LOC','MISC','ORG'], 'correct':{'subj': ['MISC','LOC','ORG'],'obj':'LOC'}},\n",
        "    'LOCATED_ON_TERRAIN_FEATURE': {\"subj\": ['LOC','MISC','ORG'], 'obj': ['LOC','MISC','ORG'], 'correct':{'subj': ['MISC','LOC','ORG'],'obj':'LOC'}},\n",
        "    'RELIGION': {\"subj\": ['ORG','LOC','PER','MISC'], 'obj': ['ORG','LOC','PER','MISC'], 'correct':{'subj': ['PER','LOC','ORG'],'obj':'MISC'}},\n",
        "    'LYRICS_BY': {\"subj\": ['PER','MISC'], 'obj': ['PER','MISC'], 'correct':{'subj': 'MISC','obj':'PER'}},\n",
        "    'RECORD_LABEL': {\"subj\": ['ORG','MISC','PER'], 'obj': ['ORG','MISC','PER'], 'correct':{'subj': ['MISC','PER','ORG'],'obj':'ORG'}},\n",
        "    'MILITARY_BRANCH': {\"subj\": ['PER','ORG','MISC','LOC'], 'obj': ['PER','ORG','MISC','LOC'], 'correct':{'subj': ['PER','ORG','MISC','LOC'],'obj':'ORG'}},\n",
        "    'CONFLICT': {'subj': ['MISC','PER'],'obj':['MISC','PER'],'correct':{'subj': ['MISC','PER'],'obj':'MISC'}},\n",
        "    'MEMBER_OF_SPORTS_TEAM': {\"subj\": ['PER','ORG'], 'obj': ['PER','ORG'], 'correct':{'subj': 'PER','obj':'ORG'}},\n",
        "    'LEGISLATIVE_BODY': {\"subj\": ['LOC','ORG','MISC'], 'obj': ['LOC','ORG','MISC'], 'correct':{'subj': ['LOC','ORG','MISC'],'obj':'ORG'}}, # ??????,\n",
        "    'WORK_LOCATION': {'subj': ['LOC','PER'],'obj':['LOC','PER'], 'correct':{'subj': 'PER','obj':'LOC'}},\n",
        "    'APPLIES_TO_JURISDICTION': {'subj': ['LOC','ORG','MISC'],'obj':['LOC','ORG','MISC'], 'correct':{'subj': ['MISC','ORG'],'obj':'LOC'}},\n",
        "    'PRODUCT_OR_MATERIAL_PRODUCED': {\"subj\": ['ORG','MISC'], 'obj': ['ORG','MISC'], 'correct': {'subj':'ORG','obj':'MISC'}},\n",
        "    'GENRE': {\"subj\": ['MISC','PER'], 'obj': ['MISC','PER'], 'correct': {'subj':'MISC','obj':'MISC'}},\n",
        "    'COMPOSER': {\"subj\": ['PER','MISC'], 'obj': ['PER','MISC'], 'correct': {'subj':'MISC','obj':'PER'}},\n",
        "    'MANUFACTURER': {\"subj\": ['MISC','ORG','PER'], 'obj': ['MISC','ORG','PER'],'correct': {'subj':'MISC','obj':['PER','ORG']}},\n",
        "    'PARTICIPANT_OF': {\"subj\": ['PER','MISC','ORG','LOC'], 'obj': ['PER','MISC','ORG','LOC'], 'correct': {'subj':['PER','ORG','LOC'],'obj':'MISC'}, 'reverse': 'PARTICIPANT'},\n",
        "    'FOUNDED_BY': {\"subj\": ['PER','MISC','ORG'], 'obj': ['PER','MISC','ORG'],'correct': {'subj':['MISC','ORG'],'obj':'PER'}},\n",
        "    'SUBSIDIARY': {\"subj\": ['ORG'], 'obj': ['ORG'], 'correct':{'subj': 'ORG','obj':'ORG'}, 'reverse': 'PARENT_ORGANIZATION'},\n",
        "    'CAPITAL' : {\"subj\": ['LOC'], 'obj': ['LOC'], 'correct':{'subj': 'LOC','obj':'LOC'}, 'reverse': 'CAPITAL_OF'},\n",
        "    'CAPITAL_OF': {\"subj\": ['LOC'], 'obj': ['LOC'], 'correct':{'subj': 'LOC','obj':'LOC'}, 'reverse': 'CAPITAL'},\n",
        "    'PARENT_ORGANIZATION': {\"subj\": ['ORG'], 'obj': ['ORG'], 'correct':{'subj': 'ORG','obj':'ORG'}, 'reverse': 'SUBSIDIARY'},\n",
        "    'ETHNIC_GROUP': {\"subj\": ['LOC','ORG','PER','MISC'], 'obj': ['LOC','ORG','PER','MISC'], 'correct':{'subj': ['LOC','ORG','PER'],'obj':['LOC','ORG','MISC']}},\n",
        "    'BASIN_COUNTRY': {\"subj\": ['LOC'], 'obj': ['LOC'], 'correct':{'subj': \"LOC\",'obj':'LOC'}},\n",
        "    'OFFICIAL_LANGUAGE': {\"subj\": ['LOC','MISC','ORG'], 'obj': ['LOC','MISC','ORG'], 'correct':{'subj': [\"LOC\",'ORG'],'obj': 'MISC'}},\n",
        "    'MOUTH_OF_THE_WATERCOURSE': {\"subj\": ['LOC'], 'obj': ['LOC'], 'correct':{'subj': \"LOC\",'obj':'LOC'}},\n",
        "    'NARRATIVE_LOCATION': {'subj': ['LOC','MISC'],'obj':['LOC','MISC'],'correct':{'subj': 'MISC','obj':'LOC'}},\n",
        "    'INFLUENCED_BY': {\"subj\": ['PER','MISC','ORG'], 'obj': ['PER','MISC','ORG'], 'correct':{'subj': [\"PER\",'ORG','MISC'],'obj': [\"PER\",'ORG','MISC']}},\n",
        "    'RESIDENCE': {'subj': ['LOC','PER'],'obj':['LOC','PER'],'correct':{'subj': 'PER','obj':'LOC'}},\n",
        "    'UNEMPLOYMENT_RATE': {\"subj\": [\"LOC\",\"TIME\", \"NUM\"], \"obj\":  [\"LOC\",\"TIME\",\"NUM\"], 'correct':{'subj': 'LOC','obj':['TIME','NUM']}},\n",
        "    'SISTER_CITY': {\"subj\": ['LOC'], 'obj': ['LOC'], 'correct':{'subj': 'LOC','obj':'LOC'}, 'reverse': 'SISTER_CITY'},\n",
        "    'SEPARATED_FROM': {\"subj\": ['LOC','ORG'], 'obj': ['LOC','ORG'], 'correct':{'subj': ['LOC','ORG'],'obj':['LOC','ORG']}},\n",
        "    'PARENT_TAXON': {\"subj\": ['LOC','MISC'], 'obj': ['LOC','MISC'], 'correct':{'subj': ['LOC','MISC'],'obj':['LOC','MISC']}},\n",
        "    'REPLACES': {\"subj\": ['LOC','MISC','ORG'], 'obj': ['LOC','MISC','ORG'], 'correct':{'subj': ['LOC','MISC','ORG'],'obj':['LOC','MISC','ORG']}, 'reverse': 'REPLACED_BY'},\n",
        "    'REPLACED_BY': {\"subj\": ['LOC','MISC','ORG'], 'obj': ['LOC','MISC','ORG'], 'correct':{'subj': ['LOC','MISC','ORG'],'obj':['LOC','MISC','ORG']}, 'reverse': 'REPLACES'},\n",
        "    'FOLLOWS': {\"subj\": [\"MISC\", \"LOC\", \"ORG\", \"TIME\", \"PER\"], 'obj': [\"MISC\", \"LOC\", \"ORG\", \"TIME\", \"PER\"], 'correct':{'subj': [\"MISC\", \"LOC\", \"ORG\", \"TIME\", \"PER\"],'obj':[\"MISC\", \"LOC\", \"ORG\", \"TIME\", \"PER\"]}, 'reverse': 'FOLLOWED_BY'},\n",
        "    'FOLLOWED_BY': {\"subj\": [\"MISC\", \"LOC\", \"ORG\", \"TIME\", \"PER\"], 'obj': [\"MISC\", \"LOC\", \"ORG\", \"TIME\", \"PER\"], 'correct':{'subj': [\"MISC\", \"LOC\", \"ORG\", \"TIME\", \"PER\"],'obj':[\"MISC\", \"LOC\", \"ORG\", \"TIME\", \"PER\"]},'reverse': 'FOLLOWS'},\n",
        "    'INSTANCE_OF': {\"subj\": ['MISC','LOC','ORG','PER'], 'obj': ['MISC','LOC','ORG','PER'], 'correct':{'subj': ['MISC','LOC','ORG','PER'],'obj':['MISC','LOC','ORG','PER']}},  #check\n",
        "    'CONTINENT': {\"subj\": ['LOC','ORG','MISC'], 'obj': ['LOC','ORG','MISC'],'correct':{'subj': ['LOC','ORG','MISC'],'obj':'LOC'}},\n",
        "    'MEMBER_OF': {\"subj\": ['PER','ORG','MISC'], 'obj': ['PER','ORG','MISC'],'correct':{'subj': 'PER','obj':['ORG','MISC']}},\n",
        "    'PART_OF':{\"subj\": ['MISC','ORG','LOC'], 'obj': ['MISC','ORG','LOC'], 'correct':{'subj': ['MISC','ORG','LOC'],'obj':['ORG','MISC']}, 'reverse': \"HAS_PART\"},\n",
        "}\n",
        "\n",
        "\n",
        "unknown_types = {                                     #?\n",
        "    'SERIES': {\"subj\": ['?'], 'obj': ['?']},\n",
        "    'SUBCLASS_OF':{\"subj\": ['?'], 'obj': ['?']},\n",
        "}"
      ],
      "metadata": {
        "id": "eoWoTPE_rxhk"
      },
      "execution_count": null,
      "outputs": []
    },
    {
      "cell_type": "code",
      "source": [
        "def filter_triples_by_type(triples):\n",
        "    correct = []\n",
        "    incorrect = []\n",
        "    for triple in triples:\n",
        "        if triple['subj'][0][0] == triple['obj'][0][0]:\n",
        "            incorrect.append(triple)\n",
        "            continue\n",
        "        if triple['pred'] not in correct_types.keys():\n",
        "            incorrect.append(triple)\n",
        "            continue\n",
        "        types = correct_types[triple['pred']]\n",
        "        if triple['subj'][1] in types['subj'] and triple['obj'][1] in types['obj']:\n",
        "            correct.append(triple)\n",
        "        else:\n",
        "            incorrect.append(triple)\n",
        "    print(f'Correct: {len(correct)} and Incorrect: {len(incorrect)}')\n",
        "    return correct"
      ],
      "metadata": {
        "id": "SoCkrjH2rpL9"
      },
      "execution_count": null,
      "outputs": []
    },
    {
      "cell_type": "code",
      "source": [
        "def filter_triples_by_correct_type(triples):\n",
        "    correct_triples = []\n",
        "    updated_triples = []\n",
        "    incorrect_triples = []\n",
        "    unruled_triples = []\n",
        "    reverse_triples = []\n",
        "\n",
        "    correct_triple = None\n",
        "    is_corrected = False\n",
        "\n",
        "    for triple in triples:\n",
        "        if triple['pred'] not in correct_types.keys():\n",
        "            unruled_triples.append(triple)\n",
        "            continue\n",
        "        types = correct_types[triple['pred']]\n",
        "        correct_subj_types = types['correct']['subj']\n",
        "        correct_obj_types = types['correct']['obj']\n",
        "        # Оба типа не списки\n",
        "        if not isinstance(correct_subj_types,list)and not isinstance(correct_obj_types,list):\n",
        "            # Правильные типы не равны\n",
        "            if correct_subj_types!=correct_obj_types:\n",
        "                if triple['subj'][1] == correct_subj_types and triple['obj'][1] == correct_obj_types:\n",
        "                    correct_triples.append(triple)\n",
        "                    continue\n",
        "                elif triple['subj'][1] == correct_obj_types and triple['obj'][1] == correct_subj_types:\n",
        "                    correct_triple = {'subj': triple['obj'],'obj':triple['subj'],\"pred\": triple['pred']}\n",
        "                    updated_triples.append(correct_triple)\n",
        "                    is_corrected = True\n",
        "                    continue\n",
        "                else:\n",
        "                    incorrect_triples.append(triple)\n",
        "                    continue\n",
        "            # Правильные типы равны\n",
        "            else:\n",
        "                if triple['pred'] in nlp_similarity.keys():\n",
        "                    _triple, is_corrected = similarity_check_nlp(triple)\n",
        "                    if is_corrected:\n",
        "                        correct_triple = _triple\n",
        "                        updated_triples.append(_triple)\n",
        "                        continue\n",
        "                    else:\n",
        "                        correct_triples.append(_triple)\n",
        "                        continue\n",
        "                else:\n",
        "                    #print(triple['pred'])\n",
        "                    unruled_triples.append(triple)\n",
        "                    continue\n",
        "        # Хотя бы один из правильных типов - список\n",
        "        if (isinstance(correct_subj_types,list)) or isinstance(correct_obj_types,list):\n",
        "            # Субъект - список, а объект - не список\n",
        "            if isinstance(correct_subj_types,list) and not isinstance(correct_obj_types,list):\n",
        "                # Правильный тип объекта есть в списке правильных типов субъекта\n",
        "                if correct_obj_types in correct_subj_types:\n",
        "                    set_1_obj = set([correct_obj_types])\n",
        "                    set_subj = set(correct_subj_types)\n",
        "                    difference = set_subj.difference(set_1_obj)\n",
        "                    if triple['subj'][1]!=triple['obj'][1]:\n",
        "                        if triple['subj'][1] in difference and triple['obj'][1]==correct_obj_types:\n",
        "                            correct_triples.append(triple)\n",
        "                        elif triple['obj'][1] in difference and triple['subj'][1]==correct_obj_types:\n",
        "                            correct_triple = {'subj': triple['obj'],'obj':triple['subj'],\"pred\": triple['pred']}\n",
        "                            updated_triples.append(correct_triple)\n",
        "                            is_corrected = True\n",
        "                        else:\n",
        "                            incorrect_triples.append(triple)\n",
        "                            continue\n",
        "                    else:\n",
        "                        if triple['subj'][1] in difference:\n",
        "                            incorrect_triples.append(triple)\n",
        "                            continue\n",
        "                        else:\n",
        "                            if triple['pred'] in nlp_similarity.keys():\n",
        "                                _triple, is_corrected = similarity_check_nlp(triple)\n",
        "                                if is_corrected:\n",
        "                                    correct_triple = _triple\n",
        "                                    updated_triples.append(_triple)\n",
        "                                else:\n",
        "                                    correct_triples.append(_triple)\n",
        "                            else:\n",
        "                                # print(triple['pred'])\n",
        "                                unruled_triples.append(triple)\n",
        "                else:\n",
        "                    if triple['obj'][1] == correct_obj_types:\n",
        "                        if triple['subj'][1] in correct_subj_types:\n",
        "                            correct_triples.append(triple)\n",
        "                        else:\n",
        "                            incorrect_triples.append(triple)\n",
        "                            continue\n",
        "                    elif triple['subj'][1] == correct_obj_types:\n",
        "                        if triple['obj'][1] in correct_subj_types:\n",
        "                            correct_triple = {'subj': triple['obj'],'obj':triple['subj'],\"pred\": triple['pred']}\n",
        "                            updated_triples.append(correct_triple)\n",
        "                            is_corrected =True\n",
        "                        else:\n",
        "                            incorrect_triples.append(triple)\n",
        "                            continue\n",
        "                    else:\n",
        "                        incorrect_triples.append(triple)\n",
        "                        continue\n",
        "            # Субъект - не список, а объект - список\n",
        "            if not isinstance(correct_subj_types,list) and isinstance(correct_obj_types,list):\n",
        "                # Правильный тип субъекта есть в списке правильных типов объекта\n",
        "                if correct_subj_types in correct_obj_types:\n",
        "                    set_obj = set(correct_obj_types)\n",
        "                    set_1_subj = set([correct_subj_types])\n",
        "                    difference = set_obj.difference(set_1_subj)\n",
        "                    if triple['subj'][1]!=triple['obj'][1]:\n",
        "                        if triple['obj'][1] in difference and triple['subj'][1]==correct_subj_types:\n",
        "                            correct_triples.append(triple)\n",
        "                        elif triple['subj'][1] in difference and triple['obj'][1]==correct_subj_types:\n",
        "                            correct_triple = {'subj': triple['obj'],'obj':triple['subj'],\"pred\": triple['pred']}\n",
        "                            updated_triples.append(correct_triple)\n",
        "                            is_corrected =True\n",
        "                        else:\n",
        "                            incorrect_triples.append(triple)\n",
        "                            continue\n",
        "                    else:\n",
        "                        if triple['subj'][1] in difference:\n",
        "                            incorrect_triples.append(triple)\n",
        "                            continue\n",
        "                        else:\n",
        "                            if triple['pred'] in nlp_similarity.keys():\n",
        "                                _triple, is_corrected = similarity_check_nlp(triple)\n",
        "                                if is_corrected:\n",
        "                                    correct_triple = _triple\n",
        "                                    updated_triples.append(_triple)\n",
        "                                else:\n",
        "                                    correct_triples.append(_triple)\n",
        "                            else:\n",
        "                                # print(triple['pred'])\n",
        "                                unruled_triples.append(triple)\n",
        "                else:\n",
        "                    # Тип субъекта - правильный\n",
        "                    if triple['subj'][1] == correct_subj_types:\n",
        "                        # Тип  объекта есть в списке правильных типов объекта\n",
        "                        if triple['obj'][1] in correct_obj_types:\n",
        "                            correct_triples.append(triple)\n",
        "                        # Иначе\n",
        "                        else:\n",
        "                            incorrect_triples.append(triple)\n",
        "                            continue\n",
        "                    # Тип субъекта не равен правильному типу субъекта, а тип объекта равен правильному типу субъекта -> меняем их местами\n",
        "                    elif triple['obj'][1] == correct_subj_types:\n",
        "                        if triple['subj'][1] in correct_obj_types:\n",
        "                            correct_triple = {'subj': triple['obj'],'obj':triple['subj'],\"pred\": triple['pred']}\n",
        "                            updated_triples.append(correct_triple)\n",
        "                            is_corrected =True\n",
        "                        else:\n",
        "                            incorrect_triples.append(triple)\n",
        "                            continue\n",
        "                    else:\n",
        "                        incorrect_triples.append(triple)\n",
        "                        continue\n",
        "\n",
        "            if isinstance(correct_subj_types,list) and isinstance(correct_obj_types,list):\n",
        "                set_subj = set(correct_subj_types)\n",
        "                set_obj = set(correct_obj_types)\n",
        "                only_subj = set_subj.difference(set_obj)\n",
        "                only_obj = set_obj.difference(set_subj)\n",
        "                both = set_subj.intersection(set_obj)\n",
        "                if triple['subj'][1] in only_subj and triple['obj'][1] in only_obj:\n",
        "                    correct_triples.append(triple)\n",
        "                elif triple['subj'][1] in only_obj and triple['obj'][1] in only_subj:\n",
        "                    correct_triple = {'subj': triple['obj'],'obj':triple['subj'],\"pred\": triple['pred']}\n",
        "                    updated_triples.append(correct_triple)\n",
        "                    is_corrected =True\n",
        "                elif triple['subj'][1] in only_subj and triple['obj'][1] in both:\n",
        "                    correct_triples.append(triple)\n",
        "                elif triple['subj'][1] in only_obj and triple['obj'][1] in both:\n",
        "                    correct_triple = {'subj': triple['obj'],'obj':triple['subj'],\"pred\": triple['pred']}\n",
        "                    updated_triples.append(correct_triple)\n",
        "                    is_corrected =True\n",
        "                elif triple['subj'][1] in both and triple['obj'][1] in only_obj:\n",
        "                    correct_triples.append(triple)\n",
        "                elif triple['subj'][1] in both and triple['obj'][1] in only_subj:\n",
        "                    correct_triple = {'subj': triple['obj'],'obj':triple['subj'],\"pred\": triple['pred']}\n",
        "                    updated_triples.append(correct_triple)\n",
        "                    is_corrected =True\n",
        "                elif triple['subj'][1] in both and triple['obj'][1] in both:\n",
        "                    #TODO\n",
        "                    # print(triple['pred'])\n",
        "                    if triple['pred'] in nlp_similarity.keys():\n",
        "                        _triple, is_corrected = similarity_check_nlp(triple)\n",
        "                        if is_corrected:\n",
        "                            correct_triple = _triple\n",
        "                            updated_triples.append(_triple)\n",
        "                        else:\n",
        "                            correct_triples.append(_triple)\n",
        "                    else:\n",
        "                        unruled_triples.append(triple)\n",
        "                else:\n",
        "                    incorrect_triples.append(triple)\n",
        "                    continue\n",
        "        if 'reverse' in types.keys():\n",
        "            if is_corrected:\n",
        "                new_triple = {'subj': correct_triple['obj'],'obj':correct_triple['subj'],\"pred\": types['reverse']}\n",
        "                reverse_triples.append(new_triple)\n",
        "            else:\n",
        "                new_triple = {'subj': triple['obj'],'obj':triple['subj'],\"pred\": types['reverse']}\n",
        "                reverse_triples.append(new_triple)\n",
        "        is_corrected = False\n",
        "        correct_triple = None\n",
        "\n",
        "    print('Correct: ',len(correct_triples))\n",
        "    print('Incorrect: ',len(incorrect_triples))\n",
        "    print('Updated: ',len(updated_triples))\n",
        "    print('Unruled: ',len(unruled_triples))\n",
        "    print('Reverse: ',len(reverse_triples))\n",
        "    combination = correct_triples + updated_triples + unruled_triples + reverse_triples\n",
        "    print('Combo: ', len(combination))\n",
        "    # print('\\n'.join(list(map(lambda x: str(x),unruled_triples))))\n",
        "    return combination"
      ],
      "metadata": {
        "id": "USYm7SIWrrZc"
      },
      "execution_count": null,
      "outputs": []
    },
    {
      "cell_type": "code",
      "source": [
        "with open ('extracted_triples_2.json') as f:\n",
        "    triples = json.load(f)"
      ],
      "metadata": {
        "id": "F10IW3nnsRs8"
      },
      "execution_count": null,
      "outputs": []
    },
    {
      "cell_type": "code",
      "source": [
        "print(len(triples))\n",
        "correct_by_overall_type = filter_triples_by_type(triples)\n",
        "combo = filter_triples_by_correct_type(correct_by_overall_type)\n",
        "pd.set_option('display.max_rows', None)"
      ],
      "metadata": {
        "colab": {
          "base_uri": "https://localhost:8080/"
        },
        "id": "JdA_vYX0sS9Y",
        "outputId": "59bdb8f5-bce6-4311-db3c-a4328394f6ef"
      },
      "execution_count": null,
      "outputs": [
        {
          "output_type": "stream",
          "name": "stdout",
          "text": [
            "949\n",
            "Correct: 820 and Incorrect: 129\n"
          ]
        },
        {
          "output_type": "stream",
          "name": "stderr",
          "text": [
            "<ipython-input-8-98fed4698998>:19: UserWarning: [W008] Evaluating Doc.similarity based on empty vectors.\n",
            "  p_o = pred.similarity(obj)\n"
          ]
        },
        {
          "output_type": "stream",
          "name": "stdout",
          "text": [
            "Correct:  316\n",
            "Incorrect:  44\n",
            "Updated:  315\n",
            "Unruled:  145\n",
            "Reverse:  29\n",
            "Combo:  805\n"
          ]
        },
        {
          "output_type": "stream",
          "name": "stderr",
          "text": [
            "<ipython-input-8-98fed4698998>:18: UserWarning: [W008] Evaluating Doc.similarity based on empty vectors.\n",
            "  p_s = pred.similarity(subj)\n"
          ]
        }
      ]
    },
    {
      "cell_type": "code",
      "source": [
        "df = pd.DataFrame(triples)\n",
        "df_combo = pd.DataFrame(combo)\n",
        "print(df_combo.loc[df_combo['pred']=='LEAGUE'])"
      ],
      "metadata": {
        "colab": {
          "base_uri": "https://localhost:8080/"
        },
        "id": "8VI7jXUCsUEj",
        "outputId": "0bf95743-7ab0-420f-e913-95bd65e0b9b0"
      },
      "execution_count": null,
      "outputs": [
        {
          "output_type": "stream",
          "name": "stdout",
          "text": [
            "                                  subj    pred  \\\n",
            "268  [[arsenal arsenal, arsenal], ORG]  LEAGUE   \n",
            "306            [[calgary flames], ORG]  LEAGUE   \n",
            "307    [[national hockey league], ORG]  LEAGUE   \n",
            "595                     [[porto], ORG]  LEAGUE   \n",
            "596             [[werder bremen], ORG]  LEAGUE   \n",
            "617                 [[liverpool], ORG]  LEAGUE   \n",
            "\n",
            "                                 obj  \n",
            "268          [[premier league], ORG]  \n",
            "306  [[national hockey league], ORG]  \n",
            "307   [[twitter wednesday, x], MISC]  \n",
            "595       [[champions league], MISC]  \n",
            "596             [[bundesliga], MISC]  \n",
            "617       [[champions league], MISC]  \n"
          ]
        }
      ]
    }
  ]
}