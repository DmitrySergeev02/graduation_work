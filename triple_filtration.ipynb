{
  "nbformat": 4,
  "nbformat_minor": 0,
  "metadata": {
    "colab": {
      "provenance": []
    },
    "kernelspec": {
      "name": "python3",
      "display_name": "Python 3"
    },
    "language_info": {
      "name": "python"
    }
  },
  "cells": [
    {
      "cell_type": "code",
      "source": [
        "!gdown --id 1jcd9ocuh50lnwrDSiY10FbYu5X6mDpCJ"
      ],
      "metadata": {
        "colab": {
          "base_uri": "https://localhost:8080/"
        },
        "id": "VT58-ym6uwDV",
        "outputId": "66b8892d-3405-496a-895f-a2f709422927"
      },
      "execution_count": null,
      "outputs": [
        {
          "output_type": "stream",
          "name": "stdout",
          "text": [
            "/usr/local/lib/python3.10/dist-packages/gdown/__main__.py:132: FutureWarning: Option `--id` was deprecated in version 4.3.1 and will be removed in 5.0. You don't need to pass it anymore to use a file ID.\n",
            "  warnings.warn(\n",
            "Downloading...\n",
            "From: https://drive.google.com/uc?id=1jcd9ocuh50lnwrDSiY10FbYu5X6mDpCJ\n",
            "To: /content/extracted_triples_2.json\n",
            "100% 97.2k/97.2k [00:00<00:00, 64.6MB/s]\n"
          ]
        }
      ]
    },
    {
      "cell_type": "code",
      "execution_count": null,
      "metadata": {
        "id": "m5yT-XHSqG-9"
      },
      "outputs": [],
      "source": [
        "!python -m spacy download en_core_web_md"
      ]
    },
    {
      "cell_type": "code",
      "source": [
        "!pip install pandas"
      ],
      "metadata": {
        "colab": {
          "base_uri": "https://localhost:8080/"
        },
        "id": "7d_i7xhGq4SZ",
        "outputId": "14647bb5-7132-481f-b6b2-fa351b850bc9"
      },
      "execution_count": null,
      "outputs": [
        {
          "output_type": "stream",
          "name": "stdout",
          "text": [
            "Requirement already satisfied: pandas in /usr/local/lib/python3.10/dist-packages (2.0.3)\n",
            "Requirement already satisfied: python-dateutil>=2.8.2 in /usr/local/lib/python3.10/dist-packages (from pandas) (2.8.2)\n",
            "Requirement already satisfied: pytz>=2020.1 in /usr/local/lib/python3.10/dist-packages (from pandas) (2023.4)\n",
            "Requirement already satisfied: tzdata>=2022.1 in /usr/local/lib/python3.10/dist-packages (from pandas) (2024.1)\n",
            "Requirement already satisfied: numpy>=1.21.0 in /usr/local/lib/python3.10/dist-packages (from pandas) (1.25.2)\n",
            "Requirement already satisfied: six>=1.5 in /usr/local/lib/python3.10/dist-packages (from python-dateutil>=2.8.2->pandas) (1.16.0)\n"
          ]
        }
      ]
    },
    {
      "cell_type": "code",
      "source": [
        "import json\n",
        "import pandas as pd\n",
        "import spacy"
      ],
      "metadata": {
        "id": "iNJzKleDrk_y"
      },
      "execution_count": null,
      "outputs": []
    },
    {
      "cell_type": "code",
      "source": [
        "nlp =  spacy.load('en_core_web_md')"
      ],
      "metadata": {
        "id": "wDfUg-mZrgmP"
      },
      "execution_count": null,
      "outputs": []
    },
    {
      "cell_type": "markdown",
      "source": [
        "#Правила"
      ],
      "metadata": {
        "id": "JaO0bNyRts3g"
      }
    },
    {
      "cell_type": "code",
      "source": [
        "correct_types = {\n",
        "    'LOCATED_IN_THE_ADMINISTRATIVE_TERRITORIAL_ENTITY': {\"subj\": ['LOC','ORG','MISC'], 'obj': ['LOC','ORG','MISC'],'correct':{'subj': ['ORG','MISC','LOC'],'obj':'LOC'}},\n",
        "    'INCEPTION': {'subj': ['ORG','MISC','TIME','LOC'],'obj':['ORG','MISC','TIME','LOC'], 'correct':{'subj': ['ORG','MISC','LOC'],'obj':'TIME'}},\n",
        "    'LANGUAGES_SPOKEN_WRITTEN_OR_SIGNED': {\"subj\": ['PER','MISC','LOC'], 'obj': ['PER','MISC', 'LOC'],'correct':{'subj': 'PER','obj':['MISC','LOC']}},\n",
        "    'COUNTRY': {\"subj\": ['LOC','MISC','ORG','PER'],'obj':['LOC','MISC','ORG','PER'], 'correct':{'subj': ['LOC','MISC','ORG','PER'],'obj':'LOC'}},\n",
        "    'CHAIRPERSON': {\"subj\": ['PER','ORG'], 'obj': ['PER','ORG'], 'correct':{'subj': 'ORG','obj':'PER'}},\n",
        "    'MEMBER_OF_POLITICAL_PARTY': {\"subj\": ['PER','ORG'], 'obj': ['PER','ORG'], 'correct':{'subj': 'PER','obj':'ORG'}},\n",
        "    'HEAD_OF_GOVERNMENT': {\"subj\": ['PER','LOC','ORG'], 'obj': ['PER','LOC','ORG'], 'correct':{'subj':['LOC','ORG'] ,'obj':'PER'}},\n",
        "    'DATE_OF_BIRTH': {\"subj\": ['PER','TIME'], 'obj': ['PER','TIME'],'correct':{'subj':'PER' ,'obj':'TIME'}},\n",
        "    'DATE_OF_DEATH': {\"subj\": ['PER','TIME'], 'obj': ['PER','TIME'],'correct':{'subj':'PER' ,'obj':'TIME'}},\n",
        "    'SIBLING': {\"subj\": ['PER'], 'obj': ['PER'],'correct':{'subj':'PER' ,'obj':'PER'}},\n",
        "    'PLACE_OF_BIRTH': {'subj': ['LOC','PER''ORG'],'obj':['LOC','PER','ORG'],'correct':{'subj': 'PER','obj':['LOC','ORG']}},\n",
        "    'PLACE_OF_DEATH': {'subj': ['LOC','PER''ORG'],'obj':['LOC','PER''ORG'],'correct':{'subj': 'PER','obj':['LOC','ORG']}},\n",
        "    'COUNTRY_OF_CITIZENSHIP': {\"subj\": [\"PER\", \"LOC\", \"ORG\", \"MISC\"], 'obj': [\"PER\", \"LOC\", \"ORG\", \"MISC\"], 'correct':{'subj': [\"PER\",\"ORG\", \"MISC\"],'obj':'LOC'}},\n",
        "    'POSITION_HELD': {\"subj\": ['PER','ORG','MISC','ORG'], 'obj': ['PER','ORG','MISC','ORG'],'correct':{'subj': 'PER','obj': ['ORG','MISC','ORG']}},\n",
        "    'PARTICIPANT': {'subj': ['PER','ORG','LOC','MISC'],'obj': ['PER','ORG','LOC','MISC'], 'correct':{'subj': ['PER','ORG','LOC'],'obj':'MISC'}},\n",
        "    'AUTHOR': {\"subj\": ['MISC','PER','ORG'], 'obj': ['MISC','PER','ORG'], 'correct':{'subj': 'MISC','obj':['PER','ORG']}},\n",
        "    'DISSOLVED_ABOLISHED_OR_DEMOLISHED': {\"subj\": ['TIME','ORG','LOC','MISC'], 'obj': ['TIME','ORG','LOC','MISC'],'correct':{'subj': ['ORG','LOC','MISC'],'obj': 'TIME'}},\n",
        "    'CONTAINS_ADMINISTRATIVE_TERRITORIAL_ENTITY' : {\"subj\": ['LOC','ORG'], 'obj': ['LOC','ORG'], 'correct':{'subj': 'LOC','obj':['LOC','ORG']}},\n",
        "    'HEADQUARTERS_LOCATION': {\"subj\": ['LOC','ORG'], 'obj': ['LOC','ORG'], 'correct':{'subj': 'ORG','obj':'LOC'}},\n",
        "    'PUBLICATION_DATE': {\"subj\": ['TIME','MISC'], 'obj': ['TIME','MISC'],'correct':{'subj': 'MISC','obj':'TIME'}},\n",
        "    'NOTABLE_WORK': {\"subj\": ['PER','MISC','ORG'], 'obj': ['PER','MISC','ORG'], 'correct':{'subj': ['PER','ORG'],'obj':'MISC'}},\n",
        "    'AWARD_RECEIVED': {'subj':['MISC','PER','ORG'],'obj':['MISC','PER','ORG'], 'correct':{'subj': ['PER','MISC','ORG'],'obj':'MISC'}},\n",
        "    'OWNED_BY': {\"subj\": ['MISC','ORG','PER','LOC'], 'obj': ['MISC','ORG','PER','LOC'], 'correct':{'subj': ['MISC','ORG','LOC'],'obj': ['PER','ORG']}},\n",
        "    'CAST_MEMBER': {\"subj\": ['MISC','PER'], 'obj': ['MISC','PER'],'correct':{'subj': 'PER','obj':'MISC'}},\n",
        "    'TERRITORY_CLAIMED_BY': {\"subj\": ['LOC'], 'obj': ['LOC'], 'correct':{'subj': 'LOC','obj':'LOC'}},\n",
        "    'PERFORMER': {\"subj\": ['PER','MISC'], 'obj': ['PER','MISC'], 'correct':{'subj': 'PER','obj':'MISC'}},\n",
        "    'LOCATION_OF_FORMATION': {\"subj\": ['ORG','LOC'], 'obj': ['ORG','LOC'],'correct':{'subj': 'ORG','obj':'LOC'}},\n",
        "    'COUNTRY_OF_ORIGIN': {\"subj\": ['LOC','ORG','MISC','PER'], 'obj': ['LOC','ORG','MISC','PER'], 'correct':{'subj': ['ORG','MISC','PER'],'obj':'LOC'}},\n",
        "    'FATHER': {\"subj\": ['PER'], 'obj': ['PER'], 'correct':{'subj': 'PER','obj':'PER'}},\n",
        "    'MOTHER': {\"subj\": ['PER'], 'obj': ['PER'], 'correct':{'subj': 'PER','obj':'PER'}},\n",
        "    'HEAD_OF_STATE': {'subj': ['LOC','PER'],'obj':['LOC','PER'], 'correct':{'subj': 'LOC','obj':'PER'}},\n",
        "    'CHILD': {\"subj\": ['PER'], 'obj': ['PER'], 'correct':{'subj': 'PER','obj':'PER'}},\n",
        "    'SPOUSE': {\"subj\": ['PER'], 'obj': ['PER'], 'correct':{'subj': 'PER','obj':'PER'}},\n",
        "    'START_TIME': {\"subj\": ['TIME','MISC'], 'obj': ['TIME','MISC'],'correct':{'subj': 'MISC','obj':'TIME'}},\n",
        "    'END_TIME': {'subj': ['TIME','MISC'],'obj':['TIME','MISC'],'correct':{'subj': 'MISC','obj':'TIME'}},\n",
        "    'POINT_IN_TIME': {'subj': ['TIME','MISC'],'obj':['TIME','MISC'],'correct':{'subj': 'MISC','obj':'TIME'}},\n",
        "    'ORIGINAL_NETWORK': {\"subj\": ['MISC',\"ORG\"], 'obj': ['MISC','ORG'],'correct':{'subj': 'MISC','obj':'ORG'}},\n",
        "    'HAS_PART': {\"subj\": ['LOC','ORG','MISC'], 'obj': ['LOC','ORG','MISC'], 'correct':{'subj': ['LOC','ORG','MISC'],'obj':['LOC','ORG','MISC']}},\n",
        "    'DIRECTOR': {\"subj\": ['PER','MISC'], 'obj': ['PER','MISC'], 'correct': {'subj':'MISC','obj':'PER'}},\n",
        "    'SCREENWRITER': {\"subj\": ['PER','MISC'], 'obj': ['PER','MISC'], 'correct': {'subj':'MISC','obj':'PER'}},\n",
        "    'CHARACTERS': {\"subj\": ['PER','MISC'], 'obj': ['PER','MISC'], 'correct': {'subj':'MISC','obj':'PER'}},\n",
        "    'PRESENT_IN_WORK': {'subj': ['PER','MISC'],'obj':['PER','MISC'], 'correct': {'subj':'PER','obj':'MISC'}},\n",
        "    'CREATOR': {\"subj\": ['PER','MISC'], 'obj': ['PER','MISC'], 'correct': {'subj':'MISC','obj':'PER'}},\n",
        "    'EMPLOYER': {\"subj\": ['PER','ORG'], 'obj': ['PER','ORG'], 'correct':{'subj': 'PER','obj':['PER','ORG']}},\n",
        "    'PRODUCER': {\"subj\": ['PER','MISC'], 'obj': ['PER','MISC'],'correct': {'subj':'MISC','obj':'PER'}},\n",
        "    'ORIGINAL_LANGUAGE_OF_WORK': {\"subj\": ['MISC'], 'obj': ['MISC'], 'correct': {'subj':'MISC','obj':'MISC'}},\n",
        "    'DEVELOPER': {\"subj\": ['ORG','MISC','PER'], 'obj': ['ORG','MISC','PER'],'correct': {'subj':'MISC','obj':['PER','ORG']}},\n",
        "    'PUBLISHER': {\"subj\": ['ORG','MISC','PER'], 'obj': ['ORG','MISC','PER'],'correct': {'subj':'MISC','obj':['PER','ORG']}},\n",
        "    'PLATFORM': {\"subj\": ['MISC'], 'obj': ['MISC'], 'correct': {'subj':'MISC','obj':'MISC'}},\n",
        "    'PRODUCTION_COMPANY': {\"subj\": ['ORG','MISC'], 'obj': ['ORG','MISC'],'correct': {'subj':'MISC','obj':'ORG'}},\n",
        "    'EDUCATED_AT': {\"subj\": ['PER','ORG','LOC'], 'obj': ['PER','ORG','LOC'], 'correct': {'subj':'PER','obj':['ORG','LOC']}},\n",
        "    'OPERATOR': {\"subj\": ['PER','ORG','MISC'], 'obj': ['PER','ORG','MISC'], 'correct': {'subj':'MISC','obj':['ORG','PER']}},\n",
        "    'LEAGUE': {\"subj\": ['PER','ORG'], 'obj': ['PER','ORG'], 'correct':{'subj': ['PER','ORG'],'obj':'ORG'}},\n",
        "    'LOCATED_IN_OR_NEXT_TO_BODY_OF_WATER': {\"subj\": ['LOC','ORG'], 'obj': ['LOC','ORG'], 'correct':{'subj': [\"LOC\",'ORG'],'obj':'LOC'}},\n",
        "    'LOCATION': {\"subj\": ['LOC','MISC','ORG'], 'obj': ['LOC','MISC','ORG'], 'correct':{'subj': ['MISC','LOC','ORG'],'obj':'LOC'}},\n",
        "    'LOCATED_ON_TERRAIN_FEATURE': {\"subj\": ['LOC','MISC','ORG'], 'obj': ['LOC','MISC','ORG'], 'correct':{'subj': ['MISC','LOC','ORG'],'obj':'LOC'}},\n",
        "    'RELIGION': {\"subj\": ['ORG','LOC','PER','MISC'], 'obj': ['ORG','LOC','PER','MISC'], 'correct':{'subj': ['PER','LOC','ORG'],'obj':'MISC'}},\n",
        "    'LYRICS_BY': {\"subj\": ['PER','MISC'], 'obj': ['PER','MISC'], 'correct':{'subj': 'MISC','obj':'PER'}},\n",
        "    'RECORD_LABEL': {\"subj\": ['ORG','MISC'], 'obj': ['ORG','MISC'], 'correct':{'subj': 'MISC','obj':'ORG'}},\n",
        "    'MILITARY_BRANCH': {\"subj\": ['PER','ORG','MISC','LOC'], 'obj': ['PER','ORG','MISC','LOC'], 'correct':{'subj': ['PER','ORG','MISC','LOC'],'obj':'ORG'}},\n",
        "    'CONFLICT': {'subj': ['MISC','PER'],'obj':['MISC','PER'],'correct':{'subj': ['MISC','PER'],'obj':'MISC'}},\n",
        "    'MEMBER_OF_SPORTS_TEAM': {\"subj\": ['PER','ORG'], 'obj': ['PER','ORG'], 'correct':{'subj': 'PER','obj':'ORG'}},\n",
        "    'LEGISLATIVE_BODY': {\"subj\": ['LOC','ORG','MISC'], 'obj': ['LOC','ORG','MISC'], 'correct':{'subj': ['LOC','ORG','MISC'],'obj':'ORG'}}, # ??????,\n",
        "    'WORK_LOCATION': {'subj': ['LOC','PER'],'obj':['LOC','PER'], 'correct':{'subj': 'PER','obj':'LOC'}},\n",
        "    'APPLIES_TO_JURISDICTION': {'subj': ['LOC','ORG','MISC'],'obj':['LOC','ORG','MISC'], 'correct':{'subj': ['MISC','ORG'],'obj':'LOC'}},\n",
        "    'PRODUCT_OR_MATERIAL_PRODUCED': {\"subj\": ['ORG','MISC'], 'obj': ['ORG','MISC'], 'correct': {'subj':'ORG','obj':'MISC'}},\n",
        "    'GENRE': {\"subj\": ['MISC','PER'], 'obj': ['MISC','PER'], 'correct': {'subj':'MISC','obj':'MISC'}},\n",
        "    'COMPOSER': {\"subj\": ['PER','MISC'], 'obj': ['PER','MISC'], 'correct': {'subj':'MISC','obj':'PER'}},\n",
        "    'MANUFACTURER': {\"subj\": ['MISC','ORG','PER'], 'obj': ['MISC','ORG','PER'],'correct': {'subj':'MISC','obj':['PER','ORG']}},\n",
        "    'PARTICIPANT_OF': {\"subj\": ['PER','MISC','ORG'], 'obj': ['PER','MISC','ORG'], 'correct': {'subj':['PER','ORG'],'obj':'MISC'}},\n",
        "    'FOUNDED_BY': {\"subj\": ['PER','MISC','ORG'], 'obj': ['PER','MISC','ORG'],'correct': {'subj':['MISC','ORG'],'obj':'PER'}},\n",
        "    'SUBSIDIARY': {\"subj\": ['ORG'], 'obj': ['ORG'], 'correct':{'subj': 'ORG','obj':'ORG'}},\n",
        "    'CAPITAL' : {\"subj\": ['LOC'], 'obj': ['LOC'], 'correct':{'subj': 'LOC','obj':'LOC'}},\n",
        "    'CAPITAL_OF': {\"subj\": ['LOC'], 'obj': ['LOC'], 'correct':{'subj': 'LOC','obj':'LOC'}},\n",
        "    'PARENT_ORGANIZATION': {\"subj\": ['ORG'], 'obj': ['ORG'], 'correct':{'subj': 'ORG','obj':'ORG'}},\n",
        "    'ETHNIC_GROUP': {\"subj\": ['LOC','ORG','PER','MISC'], 'obj': ['LOC','ORG','PER','MISC'], 'correct':{'subj': ['LOC','ORG','PER'],'obj':['LOC','ORG','MISC']}},\n",
        "    'BASIN_COUNTRY': {\"subj\": ['LOC'], 'obj': ['LOC'], 'correct':{'subj': \"LOC\",'obj':'LOC'}},\n",
        "    'OFFICIAL_LANGUAGE': {\"subj\": ['LOC','MISC','ORG'], 'obj': ['LOC','MISC','ORG'], 'correct':{'subj': [\"LOC\",'ORG'],'obj': 'MISC'}},\n",
        "    'MOUTH_OF_THE_WATERCOURSE': {\"subj\": ['LOC'], 'obj': ['LOC'], 'correct':{'subj': \"LOC\",'obj':'LOC'}},\n",
        "    'NARRATIVE_LOCATION': {'subj': ['LOC','MISC'],'obj':['LOC','MISC'],'correct':{'subj': 'MISC','obj':'LOC'}},\n",
        "    'INFLUENCED_BY': {\"subj\": ['PER','MISC','ORG'], 'obj': ['PER','MISC','ORG'], 'correct':{'subj': [\"PER\",'ORG','MISC'],'obj': [\"PER\",'ORG','MISC']}},\n",
        "    'RESIDENCE': {'subj': ['LOC','PER'],'obj':['LOC','PER'],'correct':{'subj': 'PER','obj':'LOC'}},\n",
        "    'UNEMPLOYMENT_RATE': {\"subj\": [\"LOC\",\"TIME\", \"NUM\"], \"obj\":  [\"LOC\",\"TIME\",\"NUM\"], 'correct':{'subj': 'LOC','obj':['TIME','NUM']}},\n",
        "    'SISTER_CITY': {\"subj\": ['LOC'], 'obj': ['LOC'], 'correct':{'subj': 'LOC','obj':'LOC'}},\n",
        "    'SEPARATED_FROM': {\"subj\": ['LOC','ORG'], 'obj': ['LOC','ORG'], 'correct':{'subj': ['LOC','ORG'],'obj':['LOC','ORG']}},\n",
        "    'PARENT_TAXON': {\"subj\": ['LOC','MISC'], 'obj': ['LOC','MISC'], 'correct':{'subj': ['LOC','MISC'],'obj':['LOC','MISC']}},\n",
        "    'REPLACES': {\"subj\": ['LOC','MISC','ORG'], 'obj': ['LOC','MISC','ORG'], 'correct':{'subj': ['LOC','MISC','ORG'],'obj':['LOC','MISC','ORG']}},\n",
        "    'REPLACED_BY': {\"subj\": ['LOC','MISC','ORG'], 'obj': ['LOC','MISC','ORG'], 'correct':{'subj': ['LOC','MISC','ORG'],'obj':['LOC','MISC','ORG']}},\n",
        "    'FOLLOWS': {\"subj\": [\"MISC\", \"LOC\", \"ORG\", \"TIME\", \"PER\"], 'obj': [\"MISC\", \"LOC\", \"ORG\", \"TIME\", \"PER\"], 'correct':{'subj': [\"MISC\", \"LOC\", \"ORG\", \"TIME\", \"PER\"],'obj':[\"MISC\", \"LOC\", \"ORG\", \"TIME\", \"PER\"]}},\n",
        "    'FOLLOWED_BY': {\"subj\": [\"MISC\", \"LOC\", \"ORG\", \"TIME\", \"PER\"], 'obj': [\"MISC\", \"LOC\", \"ORG\", \"TIME\", \"PER\"], 'correct':{'subj': [\"MISC\", \"LOC\", \"ORG\", \"TIME\", \"PER\"],'obj':[\"MISC\", \"LOC\", \"ORG\", \"TIME\", \"PER\"]}},\n",
        "    'INSTANCE_OF': {\"subj\": ['MISC','LOC','ORG','PER'], 'obj': ['MISC','LOC','ORG','PER'], 'correct':{'subj': ['MISC','LOC','ORG','PER'],'obj':['MISC','LOC','ORG','PER']}},  #check\n",
        "    'CONTINENT': {\"subj\": ['LOC','ORG','MISC'], 'obj': ['LOC','ORG','MISC'],'correct':{'subj': ['LOC','ORG','MISC'],'obj':'LOC'}},\n",
        "    'MEMBER_OF': {\"subj\": ['PER','ORG','MISC'], 'obj': ['PER','ORG','MISC'],'correct':{'subj': 'PER','obj':['ORG','MISC']}},\n",
        "    'PART_OF':{\"subj\": ['MISC','ORG','LOC'], 'obj': ['MISC','ORG','LOC'], 'correct':{'subj': ['MISC','ORG','LOC'],'obj':['ORG','MISC']}},\n",
        "}\n",
        "\n",
        "\n",
        "unknown_types = {                                     #?\n",
        "    'SERIES': {\"subj\": ['?'], 'obj': ['?']},\n",
        "    'SUBCLASS_OF':{\"subj\": ['?'], 'obj': ['?']},\n",
        "}"
      ],
      "metadata": {
        "id": "eoWoTPE_rxhk"
      },
      "execution_count": null,
      "outputs": []
    },
    {
      "cell_type": "code",
      "source": [
        "def filter_triples_by_type(triples):\n",
        "    correct = []\n",
        "    incorrect = []\n",
        "    for triple in triples:\n",
        "        if triple['pred'] not in correct_types.keys():\n",
        "            incorrect.append(triple)\n",
        "            continue\n",
        "        types = correct_types[triple['pred']]\n",
        "        if triple['subj'][1] in types['subj'] and triple['obj'][1] in types['obj']:\n",
        "            correct.append(triple)\n",
        "        else:\n",
        "            incorrect.append(triple)\n",
        "    print(f'Correct: {len(correct)} and Incorrect: {len(incorrect)}')\n",
        "    return correct"
      ],
      "metadata": {
        "id": "SoCkrjH2rpL9"
      },
      "execution_count": null,
      "outputs": []
    },
    {
      "cell_type": "code",
      "source": [
        "def filter_triples_by_correct_type(triples):\n",
        "    correct_triples = []\n",
        "    updated_triples = []\n",
        "    incorrect_triples = []\n",
        "    unruled_triples = []\n",
        "    country_triples = []\n",
        "    for triple in triples:\n",
        "        if triple['pred'] not in correct_types.keys():\n",
        "            unruled_triples.append(triple)\n",
        "            continue\n",
        "        types = correct_types[triple['pred']]\n",
        "        correct_subj_types = types['correct']['subj']\n",
        "        correct_obj_types = types['correct']['obj']\n",
        "        # Оба типа не списки\n",
        "        if not isinstance(correct_subj_types,list)and not isinstance(correct_obj_types,list):\n",
        "            # Правильные типы не равны\n",
        "            if correct_subj_types!=correct_obj_types:\n",
        "                if triple['subj'][1] == correct_subj_types and triple['obj'][1] == correct_obj_types:\n",
        "                    correct_triples.append(triple)\n",
        "                elif triple['subj'][1] == correct_obj_types and triple['obj'][1] == correct_subj_types:\n",
        "                    correct_triple = {'subj': triple['obj'],'obj':triple['subj'],\"pred\": triple['pred']}\n",
        "                    updated_triples.append(correct_triple)\n",
        "                else:\n",
        "                    incorrect_triples.append(triple)\n",
        "            # Правильные типы равны\n",
        "            else:\n",
        "                # subj = nlp(triple['subj'][0])\n",
        "                # obj = nlp(triple['obj'][0])\n",
        "                # pred = nlp(triple['pred'].replace('_',' '))\n",
        "                # if subj.similarity(pred)>obj.similarity(pred):\n",
        "                #     #TODO\n",
        "                #     pass\n",
        "                # else:\n",
        "                #     #TODO\n",
        "                #     pass\n",
        "                unruled_triples.append(triple)\n",
        "        # Хотя бы один из правильных типов - список\n",
        "        if (isinstance(correct_subj_types,list)) or isinstance(correct_obj_types,list):\n",
        "            # Субъект - список, а объект - не список\n",
        "            if isinstance(correct_subj_types,list) and not isinstance(correct_obj_types,list):\n",
        "                # Правильный тип объекта есть в списке правильных типов субъекта\n",
        "                if correct_obj_types in correct_subj_types:\n",
        "                    set_1_obj = set([correct_obj_types])\n",
        "                    set_subj = set(correct_subj_types)\n",
        "                    difference = set_subj.difference(set_1_obj)\n",
        "                    if triple['subj'][1]!=triple['obj'][1]:\n",
        "                        if triple['subj'][1] in difference and triple['obj'][1]==correct_obj_types:\n",
        "                            correct_triples.append(triple)\n",
        "                        elif triple['obj'][1] in difference and triple['subj'][1]==correct_obj_types:\n",
        "                            correct_triple = {'subj': triple['obj'],'obj':triple['subj'],\"pred\": triple['pred']}\n",
        "                            updated_triples.append(correct_triple)\n",
        "                        else:\n",
        "                            incorrect_triples.append(triple)\n",
        "                    else:\n",
        "                        if triple['subj'][1] in difference:\n",
        "                            incorrect_triples.append(triple)\n",
        "                        else:\n",
        "                            if triple['pred']=='COUNTRY':\n",
        "                                subj = nlp(triple['subj'][0][0])\n",
        "                                obj = nlp(triple['obj'][0][0])\n",
        "                                pred = nlp(triple['pred'].lower())\n",
        "                                if pred.similarity(subj)>pred.similarity(obj):\n",
        "                                    correct_triple = {'subj': triple['obj'],'obj':triple['subj'],\"pred\": triple['pred']}\n",
        "                                    country_triples.append(correct_triple) #------------------\n",
        "                                else:\n",
        "                                    country_triples.append(triple)\n",
        "                            else:\n",
        "                                unruled_triples.append(triple)\n",
        "                else:\n",
        "                    if triple['obj'][1] == correct_obj_types:\n",
        "                        if triple['subj'][1] in correct_subj_types:\n",
        "                            correct_triples.append(triple)\n",
        "                        else:\n",
        "                            incorrect_triples.append(triple)\n",
        "                    elif triple['subj'][1] == correct_obj_types:\n",
        "                        if triple['obj'][1] in correct_subj_types:\n",
        "                            correct_triple = {'subj': triple['obj'],'obj':triple['subj'],\"pred\": triple['pred']}\n",
        "                            updated_triples.append(correct_triple)\n",
        "                        else:\n",
        "                            incorrect_triples.append(triple)\n",
        "                    else:\n",
        "                        incorrect_triples.append(triple)\n",
        "            # Субъект - не список, а объект - список\n",
        "            if not isinstance(correct_subj_types,list) and isinstance(correct_obj_types,list):\n",
        "                # Правильный тип субъекта есть в списке правильных типов объекта\n",
        "                if correct_subj_types in correct_obj_types:\n",
        "                    set_obj = set(correct_obj_types)\n",
        "                    set_1_subj = set([correct_subj_types])\n",
        "                    difference = set_obj.difference(set_1_subj)\n",
        "                    if triple['subj'][1]!=triple['obj'][1]:\n",
        "                        if triple['obj'][1] in difference and triple['subj'][1]==correct_subj_types:\n",
        "                            correct_triples.append(triple)\n",
        "                        elif triple['subj'][1] in difference and triple['obj'][1]==correct_subj_types:\n",
        "                            correct_triple = {'subj': triple['obj'],'obj':triple['subj'],\"pred\": triple['pred']}\n",
        "                            updated_triples.append(correct_triple)\n",
        "                        else:\n",
        "                            incorrect_triples.append(triple)\n",
        "                    else:\n",
        "                        if triple['subj'][1] in difference:\n",
        "                            incorrect_triples.append(triple)\n",
        "                        else:\n",
        "                            unruled_triples.append(triple)\n",
        "                else:\n",
        "                    # Тип субъекта - правильный\n",
        "                    if triple['subj'][1] == correct_subj_types:\n",
        "                        # Тип  объекта есть в списке правильных типов объекта\n",
        "                        if triple['obj'][1] in correct_obj_types:\n",
        "                            correct_triples.append(triple)\n",
        "                        # Иначе\n",
        "                        else:\n",
        "                            incorrect_triples.append(triple)\n",
        "                    # Тип субъекта не равен правильному типу субъекта, а тип объекта равен правильному типу субъекта -> меняем их местами\n",
        "                    elif triple['obj'][1] == correct_subj_types:\n",
        "                        if triple['subj'][1] in correct_obj_types:\n",
        "                            correct_triple = {'subj': triple['obj'],'obj':triple['subj'],\"pred\": triple['pred']}\n",
        "                            updated_triples.append(correct_triple)\n",
        "                        else:\n",
        "                            incorrect_triples.append(triple)\n",
        "                    else:\n",
        "                        incorrect_triples.append(triple)\n",
        "\n",
        "            if isinstance(correct_subj_types,list) and isinstance(correct_obj_types,list):\n",
        "                set_subj = set(correct_subj_types)\n",
        "                set_obj = set(correct_obj_types)\n",
        "                only_subj = set_subj.difference(set_obj)\n",
        "                only_obj = set_obj.difference(set_subj)\n",
        "                both = set_subj.intersection(set_obj)\n",
        "                if triple['subj'][1] in only_subj and triple['obj'][1] in only_obj:\n",
        "                    correct_triples.append(triple)\n",
        "                elif triple['subj'][1] in only_obj and triple['obj'][1] in only_subj:\n",
        "                    correct_triple = {'subj': triple['obj'],'obj':triple['subj'],\"pred\": triple['pred']}\n",
        "                    updated_triples.append(correct_triple)\n",
        "                elif triple['subj'][1] in only_subj and triple['obj'][1] in both:\n",
        "                    correct_triples.append(triple)\n",
        "                elif triple['subj'][1] in only_obj and triple['obj'][1] in both:\n",
        "                    correct_triple = {'subj': triple['obj'],'obj':triple['subj'],\"pred\": triple['pred']}\n",
        "                    updated_triples.append(correct_triple)\n",
        "                elif triple['subj'][1] in both and triple['obj'][1] in only_obj:\n",
        "                    correct_triples.append(triple)\n",
        "                elif triple['subj'][1] in both and triple['obj'][1] in only_subj:\n",
        "                    correct_triple = {'subj': triple['obj'],'obj':triple['subj'],\"pred\": triple['pred']}\n",
        "                    updated_triples.append(correct_triple)\n",
        "                elif triple['subj'][1] in both and triple['obj'][1] in both:\n",
        "                    #TODO\n",
        "                    unruled_triples.append(triple)\n",
        "                else:\n",
        "                    incorrect_triples.append(triple)\n",
        "    print('Correct: ',len(correct_triples))\n",
        "    print('Incorrect: ',len(incorrect_triples))\n",
        "    print('Updated: ',len(updated_triples))\n",
        "    print('Unruled: ',len(unruled_triples))\n",
        "    print('\\n'.join(list(map(lambda x: str(x),country_triples))))\n",
        "    return unruled_triples"
      ],
      "metadata": {
        "id": "USYm7SIWrrZc"
      },
      "execution_count": null,
      "outputs": []
    },
    {
      "cell_type": "code",
      "source": [
        "with open ('extracted_triples_2.json') as f:\n",
        "    triples = json.load(f)"
      ],
      "metadata": {
        "id": "F10IW3nnsRs8"
      },
      "execution_count": null,
      "outputs": []
    },
    {
      "cell_type": "code",
      "source": [
        "print(len(triples))\n",
        "correct_by_overall_type = filter_triples_by_type(triples)\n",
        "unruled = filter_triples_by_correct_type(correct_by_overall_type)\n",
        "pd.set_option('display.max_rows', None)"
      ],
      "metadata": {
        "colab": {
          "base_uri": "https://localhost:8080/"
        },
        "id": "JdA_vYX0sS9Y",
        "outputId": "e7a2d754-dc5f-4b22-d864-952f0bc09b49"
      },
      "execution_count": null,
      "outputs": [
        {
          "output_type": "stream",
          "name": "stdout",
          "text": [
            "949\n",
            "Correct: 909 and Incorrect: 40\n"
          ]
        },
        {
          "output_type": "stream",
          "name": "stderr",
          "text": [
            "<ipython-input-9-2aa0dd8a92d0>:62: UserWarning: [W008] Evaluating Doc.similarity based on empty vectors.\n",
            "  if pred.similarity(subj)>pred.similarity(obj):\n"
          ]
        },
        {
          "output_type": "stream",
          "name": "stdout",
          "text": [
            "Correct:  293\n",
            "Incorrect:  68\n",
            "Updated:  271\n",
            "Unruled:  230\n",
            "{'subj': [['s. u. v.'], 'LOC'], 'obj': [['america'], 'LOC'], 'pred': 'COUNTRY'}\n",
            "{'subj': [['manhattan'], 'LOC'], 'obj': [['america'], 'LOC'], 'pred': 'COUNTRY'}\n",
            "{'subj': [['collect pond park'], 'LOC'], 'obj': [['america'], 'LOC'], 'pred': 'COUNTRY'}\n",
            "{'subj': [['america america'], 'LOC'], 'pred': 'COUNTRY', 'obj': [['america america'], 'LOC']}\n",
            "{'subj': [['brownsville'], 'LOC'], 'obj': [['america'], 'LOC'], 'pred': 'COUNTRY'}\n",
            "{'subj': [['texas'], 'LOC'], 'obj': [['america'], 'LOC'], 'pred': 'COUNTRY'}\n",
            "{'subj': [['boston'], 'LOC'], 'obj': [['america'], 'LOC'], 'pred': 'COUNTRY'}\n",
            "{'subj': [['capitol'], 'LOC'], 'obj': [['america'], 'LOC'], 'pred': 'COUNTRY'}\n",
            "{'subj': [['manhattan criminal courtroom'], 'LOC'], 'pred': 'COUNTRY', 'obj': [['the united states'], 'LOC']}\n",
            "{'subj': [['squirrel hill'], 'LOC'], 'obj': [['american'], 'LOC'], 'pred': 'COUNTRY'}\n",
            "{'subj': [['american'], 'LOC'], 'pred': 'COUNTRY', 'obj': [['tree of life synagogue'], 'LOC']}\n",
            "{'subj': [['u. s.'], 'LOC'], 'obj': [['new york'], 'LOC'], 'pred': 'COUNTRY'}\n",
            "{'subj': [['upper manhattan'], 'LOC'], 'obj': [['israel'], 'LOC'], 'pred': 'COUNTRY'}\n",
            "{'subj': [['silicon valley'], 'LOC'], 'obj': [['americans', 'american'], 'LOC'], 'pred': 'COUNTRY'}\n",
            "{'subj': [['silicon valley'], 'LOC'], 'pred': 'COUNTRY', 'obj': [['the united states', 'americans'], 'LOC']}\n",
            "{'subj': [['u. s.'], 'LOC'], 'obj': [['the united states', 'american'], 'LOC'], 'pred': 'COUNTRY'}\n",
            "{'subj': [['u. s.'], 'LOC'], 'obj': [['seattle'], 'LOC'], 'pred': 'COUNTRY'}\n",
            "{'subj': [['chongqing'], 'LOC'], 'obj': [['china'], 'LOC'], 'pred': 'COUNTRY'}\n",
            "{'subj': [['american'], 'LOC'], 'pred': 'COUNTRY', 'obj': [['university of california, berkeley'], 'LOC']}\n",
            "{'subj': [['shanghai'], 'LOC'], 'obj': [['china'], 'LOC'], 'pred': 'COUNTRY'}\n",
            "{'subj': [['tehran'], 'LOC'], 'obj': [['iran'], 'LOC'], 'pred': 'COUNTRY'}\n",
            "{'subj': [['kurdish'], 'LOC'], 'obj': [['iran'], 'LOC'], 'pred': 'COUNTRY'}\n",
            "{'subj': [['accra'], 'LOC'], 'pred': 'COUNTRY', 'obj': [['ghana'], 'LOC']}\n",
            "{'subj': [['kwame nkrumah circle'], 'LOC'], 'obj': [['ghana'], 'LOC'], 'pred': 'COUNTRY'}\n",
            "{'subj': [['manhattan'], 'LOC'], 'pred': 'COUNTRY', 'obj': [['the united states'], 'LOC']}\n",
            "{'subj': [['wellington'], 'LOC'], 'obj': [['new zealand'], 'LOC'], 'pred': 'COUNTRY'}\n",
            "{'subj': [['the united states'], 'LOC'], 'pred': 'COUNTRY', 'obj': [['the united states'], 'LOC']}\n",
            "{'subj': [['u. s.'], 'LOC'], 'obj': [['american'], 'LOC'], 'pred': 'COUNTRY'}\n",
            "{'subj': [['j. paul getty museum'], 'LOC'], 'pred': 'COUNTRY', 'obj': [['turkey'], 'LOC']}\n",
            "{'subj': [['metropolitan museum of art'], 'LOC'], 'obj': [['american'], 'LOC'], 'pred': 'COUNTRY'}\n",
            "{'subj': [['america'], 'LOC'], 'pred': 'COUNTRY', 'obj': [['upright citizens brigade'], 'LOC']}\n",
            "{'subj': [['america'], 'LOC'], 'pred': 'COUNTRY', 'obj': [['america'], 'LOC']}\n",
            "{'subj': [['metropolitan opera'], 'LOC'], 'obj': [['american'], 'LOC'], 'pred': 'COUNTRY'}\n",
            "{'subj': [['cologne'], 'LOC'], 'pred': 'COUNTRY', 'obj': [['germany'], 'LOC']}\n",
            "{'subj': [['ethel barrymore theater'], 'LOC'], 'pred': 'COUNTRY', 'obj': [['russian', 'russia'], 'LOC']}\n",
            "{'subj': [['ethel barrymore theater'], 'LOC'], 'pred': 'COUNTRY', 'obj': [['russia'], 'LOC']}\n",
            "{'subj': [['georgia'], 'LOC'], 'obj': [['america'], 'LOC'], 'pred': 'COUNTRY'}\n",
            "{'subj': [['united states ’', 'american'], 'LOC'], 'obj': [['the united states', 'americans', 'american'], 'LOC'], 'pred': 'COUNTRY'}\n",
            "{'subj': [['new england'], 'LOC'], 'obj': [['american'], 'LOC'], 'pred': 'COUNTRY'}\n",
            "{'subj': [['red brick city hall'], 'LOC'], 'pred': 'COUNTRY', 'obj': [['south africa'], 'LOC']}\n",
            "{'subj': [['pietermaritzburg'], 'LOC'], 'pred': 'COUNTRY', 'obj': [['south africa'], 'LOC']}\n",
            "{'subj': [['south africa'], 'LOC'], 'obj': [['durban'], 'LOC'], 'pred': 'COUNTRY'}\n",
            "{'subj': [['mount jannu'], 'LOC'], 'obj': [['american'], 'LOC'], 'pred': 'COUNTRY'}\n",
            "{'subj': [['kangchenjunga'], 'LOC'], 'obj': [['american'], 'LOC'], 'pred': 'COUNTRY'}\n",
            "{'subj': [['alameda hotel'], 'LOC'], 'pred': 'COUNTRY', 'obj': [['spain'], 'LOC']}\n",
            "{'subj': [['french'], 'LOC'], 'obj': [['france'], 'LOC'], 'pred': 'COUNTRY'}\n",
            "{'subj': [['place de la concorde'], 'LOC'], 'obj': [['france'], 'LOC'], 'pred': 'COUNTRY'}\n"
          ]
        }
      ]
    },
    {
      "cell_type": "code",
      "source": [
        "df = pd.DataFrame(triples)\n",
        "df_un = pd.DataFrame(unruled)\n",
        "print(df_un.groupby(by='pred').count())\n",
        "print(df_un.loc[df_un['pred']=='COUNTRY'])\n",
        "\n",
        "#print(df.loc[df['pred']=='OWNED_BY'])"
      ],
      "metadata": {
        "colab": {
          "base_uri": "https://localhost:8080/"
        },
        "id": "8VI7jXUCsUEj",
        "outputId": "caf4fe0f-5a62-455a-8a92-aefc7da421ed"
      },
      "execution_count": null,
      "outputs": [
        {
          "output_type": "stream",
          "name": "stdout",
          "text": [
            "                                                  subj  obj\n",
            "pred                                                       \n",
            "BASIN_COUNTRY                                        2    2\n",
            "CHILD                                                8    8\n",
            "CONTAINS_ADMINISTRATIVE_TERRITORIAL_ENTITY          30   30\n",
            "CONTINENT                                            4    4\n",
            "ETHNIC_GROUP                                         3    3\n",
            "FATHER                                               7    7\n",
            "FOLLOWED_BY                                          5    5\n",
            "FOLLOWS                                              2    2\n",
            "GENRE                                                1    1\n",
            "HAS_PART                                            15   15\n",
            "INSTANCE_OF                                          4    4\n",
            "LEAGUE                                               2    2\n",
            "LEGISLATIVE_BODY                                     1    1\n",
            "LOCATED_IN_OR_NEXT_TO_BODY_OF_WATER                  5    5\n",
            "LOCATED_IN_THE_ADMINISTRATIVE_TERRITORIAL_ENTITY    37   37\n",
            "LOCATION                                             3    3\n",
            "OWNED_BY                                            10   10\n",
            "PARENT_ORGANIZATION                                 20   20\n",
            "PART_OF                                              5    5\n",
            "REPLACED_BY                                          1    1\n",
            "SIBLING                                              7    7\n",
            "SPOUSE                                              28   28\n",
            "SUBSIDIARY                                          26   26\n",
            "TERRITORY_CLAIMED_BY                                 4    4\n",
            "Empty DataFrame\n",
            "Columns: [subj, pred, obj]\n",
            "Index: []\n"
          ]
        }
      ]
    }
  ]
}